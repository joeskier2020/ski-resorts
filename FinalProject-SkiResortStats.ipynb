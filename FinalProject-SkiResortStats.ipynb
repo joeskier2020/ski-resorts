{
 "cells": [
  {
   "cell_type": "code",
   "execution_count": 4,
   "id": "57377dde",
   "metadata": {},
   "outputs": [
    {
     "name": "stdout",
     "output_type": "stream",
     "text": [
      "Index(['Resort Name', 'Continent', 'Country', 'State/Province', 'URL',\n",
      "       'Altitude', 'Easy', 'Intermediate ', 'Difficult',\n",
      "       'Aerial tramway/reversible ropeway', 'Circulating ropeway/gondola lift',\n",
      "       'Chairlift', 'T-bar lift/platter/button lift ',\n",
      "       'Rope tow/beginner lift', 'Sunkid Moving Carpet', 'Adult', 'Youth',\n",
      "       'Child', 'Ski resort size ', 'Slope offering, variety of runs ',\n",
      "       'Lifts and cable cars ', 'Snow reliability ', 'Slope preparation ',\n",
      "       'Access, on-site parking ',\n",
      "       'Orientation (trail map, information boards, sign-postings) ',\n",
      "       'Cleanliness and hygiene ', 'Environmentally friendly ski operation ',\n",
      "       'Friendliness of staff ', 'Mountain restaurants, ski huts, gastronomy ',\n",
      "       'Après-ski ',\n",
      "       'Accommodation offering directly at the slopes and lifts ',\n",
      "       'Families and children ', 'Beginners ', 'Advanced skiers, freeriders ',\n",
      "       'Snow parks ', 'Cross-country skiing and trails ',\n",
      "       'Combined installation (gondola and chair)', 'People mover',\n",
      "       'Cog railway', 'Funicular', 'Helicopter for Heli-skiing',\n",
      "       'Snow caterpillars for Cat-skiing'],\n",
      "      dtype='object')\n"
     ]
    }
   ],
   "source": [
    "#  Ski Resort Statistics from Around the World\n",
    "\n",
    "\n",
    "import pandas as pd\n",
    "\n",
    "df = pd.read_excel ('skiResort.xlsx')\n",
    "print (df.columns)\n",
    "\n"
   ]
  },
  {
   "cell_type": "code",
   "execution_count": 5,
   "id": "ede26101",
   "metadata": {},
   "outputs": [
    {
     "name": "stdout",
     "output_type": "stream",
     "text": [
      "Country\n",
      "USA               289\n",
      "Austria           208\n",
      "Italy             169\n",
      "Japan             162\n",
      "France            162\n",
      "Switzerland       151\n",
      "Canada            108\n",
      "Germany            98\n",
      "Poland             58\n",
      "Czech Republic     49\n",
      "Name: Country, dtype: int64\n"
     ]
    }
   ],
   "source": [
    "countries = df.groupby(['Country'])['Country'].count().sort_values(ascending=False)\n",
    "print(countries.head(10))"
   ]
  },
  {
   "cell_type": "code",
   "execution_count": 6,
   "id": "0a5cde7d",
   "metadata": {},
   "outputs": [],
   "source": [
    "df_USA = df[df['Country']=='USA']"
   ]
  },
  {
   "cell_type": "code",
   "execution_count": 20,
   "id": "41bed8dc",
   "metadata": {},
   "outputs": [
    {
     "name": "stdout",
     "output_type": "stream",
     "text": [
      "The minimum value is: 0.0\n",
      "The maximum value is: 0.0\n",
      "There are this many resorts with Chairlifts: 286\n",
      "There are this many records in the dataset: 289\n"
     ]
    }
   ],
   "source": [
    "print('The minimum value is:', df_USA['Chairlift'].min())\n",
    "print('The maximum value is:', df_USA['Chairlift'].max())\n",
    "print('There are this many resorts with Chairlifts:',df_USA['Chairlift'].count())\n",
    "print('There are this many records in the dataset:',len(df_USA))\n"
   ]
  },
  {
   "cell_type": "code",
   "execution_count": 21,
   "id": "9779bb1d",
   "metadata": {},
   "outputs": [
    {
     "name": "stdout",
     "output_type": "stream",
     "text": [
      "The minimum value is: 4.0\n",
      "The maximum value is: 5.0\n",
      "There are this many: 20\n",
      "The total is: 289\n"
     ]
    }
   ],
   "source": [
    "attr = 'Friendliness of staff '\n",
    "print('The minimum value is:', df_USA[attr].min())\n",
    "print('The maximum value is:', df_USA[attr].max())\n",
    "print('There are this many:',df_USA[attr].count())\n",
    "print('The total is:',len(df_USA))\n"
   ]
  },
  {
   "cell_type": "code",
   "execution_count": 15,
   "id": "578d0524",
   "metadata": {},
   "outputs": [
    {
     "name": "stdout",
     "output_type": "stream",
     "text": [
      "Country\n",
      "USA               289\n",
      "Austria           208\n",
      "Italy             169\n",
      "Japan             162\n",
      "France            162\n",
      "Switzerland       151\n",
      "Canada            108\n",
      "Germany            98\n",
      "Poland             58\n",
      "Czech Republic     49\n",
      "Name: Country, dtype: int64\n"
     ]
    }
   ],
   "source": []
  },
  {
   "cell_type": "code",
   "execution_count": 16,
   "id": "41d619d5",
   "metadata": {},
   "outputs": [],
   "source": []
  },
  {
   "cell_type": "code",
   "execution_count": 17,
   "id": "9762ee9a",
   "metadata": {},
   "outputs": [
    {
     "name": "stdout",
     "output_type": "stream",
     "text": [
      "1578.764705882353\n"
     ]
    }
   ],
   "source": [
    "print(df_USA['Altitude'].mean())"
   ]
  },
  {
   "cell_type": "code",
   "execution_count": 73,
   "id": "e919f16e",
   "metadata": {},
   "outputs": [
    {
     "name": "stdout",
     "output_type": "stream",
     "text": [
      "         Resort Name  Easy  Intermediate   Difficult  Total_Slopes\n",
      "1205       park-city  27.0          152.0       71.0         250.0\n",
      "169   big-sky-resort  55.0           69.0      126.0         250.0\n",
      "1517        snowmass  14.2          111.0      111.0         236.2\n",
      "1702            vail  57.0           84.0       93.0         234.0\n",
      "1568       steamboat  25.0           95.0       45.0         165.0\n"
     ]
    },
    {
     "name": "stderr",
     "output_type": "stream",
     "text": [
      "/var/folders/2t/ntk9369j5cx18mg3dm1hb81r0000gn/T/ipykernel_47129/835373728.py:2: SettingWithCopyWarning: \n",
      "A value is trying to be set on a copy of a slice from a DataFrame.\n",
      "Try using .loc[row_indexer,col_indexer] = value instead\n",
      "\n",
      "See the caveats in the documentation: https://pandas.pydata.org/pandas-docs/stable/user_guide/indexing.html#returning-a-view-versus-a-copy\n",
      "  df_USA['Total_Slopes'] = sum_col\n"
     ]
    }
   ],
   "source": [
    "sum_col = df_USA['Easy']+df_USA['Intermediate ']+df_USA['Difficult']\n",
    "df_USA['Total_Slopes'] = sum_col\n",
    "\n",
    "attr = ['Resort Name','Easy', 'Intermediate ', 'Difficult','Total_Slopes']\n",
    "\n",
    "df_slopes = df_USA[attr]\n",
    "df_slopes = df_slopes.sort_values('Total_Slopes',ascending=False)\n",
    "print(df_slopes.head())\n",
    "\n",
    "#print('Min:\\n',df_USA[attr].min())\n",
    "#print('Max:\\n', df_USA[attr].max())\n",
    "#print('Percentage Filled:\\n',df_USA[attr].count()/len(df_USA))\n",
    "\n"
   ]
  },
  {
   "cell_type": "code",
   "execution_count": 28,
   "id": "91b71622",
   "metadata": {},
   "outputs": [
    {
     "name": "stdout",
     "output_type": "stream",
     "text": [
      "                               Resort Name  Snow reliability   \\\n",
      "2         49-degrees-north-mountain-resort                NaN   \n",
      "13                              afton-alps                NaN   \n",
      "44                                alpental                NaN   \n",
      "46                          alpine-meadows                5.0   \n",
      "47  alpine-mountain-ski-snow-tubing-center                NaN   \n",
      "\n",
      "    Slope preparation   \n",
      "2                  NaN  \n",
      "13                 NaN  \n",
      "44                 NaN  \n",
      "46                 5.0  \n",
      "47                 NaN  \n"
     ]
    }
   ],
   "source": [
    "print(df_USA[['Resort Name','Snow reliability ', 'Slope preparation ']].head())"
   ]
  },
  {
   "cell_type": "code",
   "execution_count": 8,
   "id": "a770b4b8",
   "metadata": {},
   "outputs": [
    {
     "name": "stdout",
     "output_type": "stream",
     "text": [
      "                               Resort Name  Lifts and cable cars   \\\n",
      "2         49-degrees-north-mountain-resort                    3.0   \n",
      "13                              afton-alps                    3.0   \n",
      "44                                alpental                    3.5   \n",
      "46                          alpine-meadows                    4.0   \n",
      "47  alpine-mountain-ski-snow-tubing-center                    3.0   \n",
      "\n",
      "    Snow reliability   \n",
      "2                 NaN  \n",
      "13                NaN  \n",
      "44                NaN  \n",
      "46                5.0  \n",
      "47                NaN  \n",
      "The minimum value is: 4.0\n",
      "The maximum value is: 5.0\n",
      "There are this many: 20\n",
      "The total is: 289\n"
     ]
    }
   ],
   "source": [
    "print(df_USA[['Resort Name','Lifts and cable cars ','Snow reliability ']].head())\n",
    "\n",
    "attr = 'Snow reliability '\n",
    "print('The minimum value is:', df_USA[attr].min())\n",
    "print('The maximum value is:', df_USA[attr].max())\n",
    "print('There are this many:',df_USA['Snow reliability '].count())\n",
    "print('The total is:',len(df_USA))\n"
   ]
  },
  {
   "cell_type": "code",
   "execution_count": 46,
   "id": "a5f7e11b",
   "metadata": {},
   "outputs": [
    {
     "name": "stdout",
     "output_type": "stream",
     "text": [
      "           Resort Name  Slope offering, variety of runs \n",
      "78      arapahoe-basin                               5.0\n",
      "1517          snowmass                               5.0\n",
      "1555      squaw-valley                               5.0\n",
      "1568         steamboat                               5.0\n",
      "1581             stowe                               5.0\n",
      "169     big-sky-resort                               5.0\n",
      "1205         park-city                               5.0\n",
      "211       breckenridge                               5.0\n",
      "102    aspen-highlands                               5.0\n",
      "954   mammoth-mountain                               5.0\n",
      "Min:\n",
      " 1.0\n",
      "Max:\n",
      " 5.0\n",
      "Percentage Filled:\n",
      " 100.0  Percent\n"
     ]
    }
   ],
   "source": [
    "print(df_USA[['Resort Name','Slope offering, variety of runs ']].sort_values('Slope offering, variety of runs ',ascending=False).head(10))\n",
    "\n",
    "attr = 'Slope offering, variety of runs '\n",
    "print('Min:\\n',df_USA[attr].min())\n",
    "print('Max:\\n', df_USA[attr].max())\n",
    "print('Percentage Filled:\\n',100*df_USA[attr].count()/len(df_USA),\" Percent\")\n"
   ]
  },
  {
   "cell_type": "code",
   "execution_count": 45,
   "id": "4089bf6a",
   "metadata": {},
   "outputs": [
    {
     "name": "stdout",
     "output_type": "stream",
     "text": [
      "          Resort Name  Ski resort size \n",
      "1517         snowmass               5.0\n",
      "1702             vail               5.0\n",
      "169    big-sky-resort               4.9\n",
      "1205        park-city               4.8\n",
      "1568        steamboat               4.8\n",
      "1277  powder-mountain               4.5\n",
      "693      jackson-hole               4.4\n",
      "753        killington               4.4\n",
      "331   copper-mountain               4.4\n",
      "342     crested-butte               4.3\n",
      "Min:\n",
      " 1.1\n",
      "Max:\n",
      " 5.0\n",
      "Percentage Filled:\n",
      " 100.0  Percent\n"
     ]
    }
   ],
   "source": [
    "\n",
    "print(df_USA[['Resort Name','Ski resort size ']].sort_values('Ski resort size ',ascending=False).head(10))\n",
    "\n",
    "attr = 'Ski resort size '\n",
    "print('Min:\\n',df_USA[attr].min())\n",
    "print('Max:\\n', df_USA[attr].max())\n",
    "print('Percentage Filled:\\n',100*df_USA[attr].count()/len(df_USA),\" Percent\")\n",
    "\n"
   ]
  },
  {
   "cell_type": "code",
   "execution_count": null,
   "id": "b487e585",
   "metadata": {},
   "outputs": [],
   "source": [
    "f'Adult', 'Youth',\n",
    "       'Child'"
   ]
  }
 ],
 "metadata": {
  "kernelspec": {
   "display_name": "Python 3 (ipykernel)",
   "language": "python",
   "name": "python3"
  },
  "language_info": {
   "codemirror_mode": {
    "name": "ipython",
    "version": 3
   },
   "file_extension": ".py",
   "mimetype": "text/x-python",
   "name": "python",
   "nbconvert_exporter": "python",
   "pygments_lexer": "ipython3",
   "version": "3.9.12"
  }
 },
 "nbformat": 4,
 "nbformat_minor": 5
}
