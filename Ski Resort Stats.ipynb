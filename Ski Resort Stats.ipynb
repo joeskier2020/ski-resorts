{
 "cells": [
  {
   "cell_type": "code",
   "execution_count": 2,
   "id": "57377dde",
   "metadata": {},
   "outputs": [
    {
     "name": "stdout",
     "output_type": "stream",
     "text": [
      "Index(['Resort Name', 'Continent', 'Country', 'State/Province', 'URL',\n",
      "       'Altitude', 'Easy', 'Intermediate ', 'Difficult',\n",
      "       'Aerial tramway/reversible ropeway', 'Circulating ropeway/gondola lift',\n",
      "       'Chairlift', 'T-bar lift/platter/button lift ',\n",
      "       'Rope tow/beginner lift', 'Sunkid Moving Carpet', 'Adult', 'Youth',\n",
      "       'Child', 'Ski resort size ', 'Slope offering, variety of runs ',\n",
      "       'Lifts and cable cars ', 'Snow reliability ', 'Slope preparation ',\n",
      "       'Access, on-site parking ',\n",
      "       'Orientation (trail map, information boards, sign-postings) ',\n",
      "       'Cleanliness and hygiene ', 'Environmentally friendly ski operation ',\n",
      "       'Friendliness of staff ', 'Mountain restaurants, ski huts, gastronomy ',\n",
      "       'Après-ski ',\n",
      "       'Accommodation offering directly at the slopes and lifts ',\n",
      "       'Families and children ', 'Beginners ', 'Advanced skiers, freeriders ',\n",
      "       'Snow parks ', 'Cross-country skiing and trails ',\n",
      "       'Combined installation (gondola and chair)', 'People mover',\n",
      "       'Cog railway', 'Funicular', 'Helicopter for Heli-skiing',\n",
      "       'Snow caterpillars for Cat-skiing'],\n",
      "      dtype='object')\n"
     ]
    }
   ],
   "source": [
    "#  Ski Resort Statistics from Around the World\n",
    "\n",
    "import pandas as pd\n",
    "\n",
    "df = pd.read_excel ('skiResort.xlsx')\n",
    "\n",
    "#  Print out the column head of the ski statistics data set\n",
    "print (df.columns)"
   ]
  },
  {
   "cell_type": "code",
   "execution_count": 3,
   "id": "ede26101",
   "metadata": {},
   "outputs": [
    {
     "name": "stdout",
     "output_type": "stream",
     "text": [
      "Country\n",
      "USA               289\n",
      "Austria           208\n",
      "Italy             169\n",
      "Japan             162\n",
      "France            162\n",
      "Switzerland       151\n",
      "Canada            108\n",
      "Germany            98\n",
      "Poland             58\n",
      "Czech Republic     49\n",
      "Name: Country, dtype: int64\n"
     ]
    }
   ],
   "source": [
    "#  We would like to focus on ski centers in the United States.  \n",
    "#  First let's examine where the ski centers are located.  And \n",
    "#  see how many ski centers are in each country \n",
    "\n",
    "countries = df.groupby(['Country'])['Country'].count().sort_values(ascending=False)\n",
    "print(countries.head(10))"
   ]
  },
  {
   "cell_type": "code",
   "execution_count": 4,
   "id": "0a5cde7d",
   "metadata": {},
   "outputs": [],
   "source": [
    "#  We will filter out the other countries and focus on US ski centers\n",
    "df_USA = df[df['Country']=='USA']"
   ]
  },
  {
   "cell_type": "code",
   "execution_count": 5,
   "id": "41bed8dc",
   "metadata": {},
   "outputs": [
    {
     "name": "stdout",
     "output_type": "stream",
     "text": [
      "The minimum value is: 0.0\n",
      "The maximum value is: 0.0\n",
      "There are this many resorts with Chairlifts: 286\n",
      "There are this many records in the dataset: 289\n",
      "\n",
      "Here are the ski centers without traditional lifts:\n",
      "\n",
      "126      bald-mountain\n",
      "1054    moose-mountain\n",
      "1093      mt-jefferson\n",
      "Name: Resort Name, dtype: object\n"
     ]
    }
   ],
   "source": [
    "#  Let's examine which ski centers have chairlifts.  This is a dummy \n",
    "#  variable with the value of 0 when there is a chairlift.  \n",
    "#  It appears that all the ski centers have chairlifts except 3.  \n",
    "\n",
    "print('The minimum value is:', df_USA['Chairlift'].min())\n",
    "print('The maximum value is:', df_USA['Chairlift'].max())\n",
    "print('There are this many resorts with Chairlifts:',df_USA['Chairlift'].count())\n",
    "print('There are this many records in the dataset:',len(df_USA))\n",
    "\n",
    "\n",
    "#  Print out the ski centers without traditional lifts.  \n",
    "#  These are mostly small ski centers.  If you like some hidden gems\n",
    "#  maybe these are interesting.  But if you want modern technology\n",
    "#  these 3 should be avoided.\n",
    "\n",
    "print(\"\\nHere are the ski centers without traditional lifts:\\n\")\n",
    "print(df_USA[df_USA['Chairlift']!=0]['Resort Name'])\n"
   ]
  },
  {
   "cell_type": "code",
   "execution_count": 6,
   "id": "9779bb1d",
   "metadata": {},
   "outputs": [
    {
     "name": "stdout",
     "output_type": "stream",
     "text": [
      "The minimum value is: 4.0\n",
      "The maximum value is: 5.0\n",
      "There are this many: 20\n",
      "The total is: 289\n"
     ]
    }
   ],
   "source": [
    "#  Examine the column of staff Friendliness\n",
    "#  Unfortunately, only 20 ski centers have data on friendliness\n",
    "#  Since the majority of the data is unpopulated, it is tough to use.\n",
    "\n",
    "attr = 'Friendliness of staff '\n",
    "print('The minimum value is:', df_USA[attr].min())\n",
    "print('The maximum value is:', df_USA[attr].max())\n",
    "print('There are this many:',df_USA[attr].count())\n",
    "print('The total is:',len(df_USA))\n"
   ]
  },
  {
   "cell_type": "code",
   "execution_count": 7,
   "id": "9762ee9a",
   "metadata": {},
   "outputs": [
    {
     "name": "stdout",
     "output_type": "stream",
     "text": [
      "The mean altitude of the ski centers: 1579 meters\n"
     ]
    },
    {
     "data": {
      "image/png": "[encoded data removed]",
      "text/plain": [
       "<Figure size 432x288 with 1 Axes>"
      ]
     },
     "metadata": {
      "needs_background": "light"
     },
     "output_type": "display_data"
    }
   ],
   "source": [
    "#  Let's examine the altitude of the ski centers\n",
    "#  From the histogram we can see that the distribution is bimodal\n",
    "#  A lot of Northeastern mountains are smaller and located at the right side \n",
    "#  of the histogram.  And the Western Rockies are on the left of the graph with\n",
    "#  some mountains being very tall.  \n",
    "#  Most ski centers are on mountains which are not that tall.  \n",
    "\n",
    "#  This code creates a histogram of altitudes\n",
    "alt = df_USA['Altitude'].hist(bins=10)\n",
    "alt.set_xlabel(\"Height of Mountain (in Meters)\", labelpad=20, weight='bold', size=12)\n",
    "alt.set_ylabel(\"Number of Ski Areas\", labelpad=20, weight='bold', size=12)\n",
    "alt.set_title(\"Histogram of Mountain Altitudes\")\n",
    "\n",
    "#  This code calculates the average altitude in America\n",
    "print(\"The mean altitude of the ski centers:\", round(df_USA['Altitude'].mean()),\"meters\")\n"
   ]
  },
  {
   "cell_type": "code",
   "execution_count": 59,
   "id": "e919f16e",
   "metadata": {},
   "outputs": [
    {
     "name": "stdout",
     "output_type": "stream",
     "text": [
      "Here are the proportions of terrain difficulty across America:\n"
     ]
    },
    {
     "data": {
      "image/png": "[encoded data removed]",
      "text/plain": [
       "<Figure size 432x288 with 1 Axes>"
      ]
     },
     "metadata": {},
     "output_type": "display_data"
    },
    {
     "name": "stdout",
     "output_type": "stream",
     "text": [
      "Here are the proportions of terrain difficulty at the biggest ski centers: \n",
      "\n",
      "             Resort Name  Easy  Intermediate   Difficult  Total_Slopes\n",
      "1205           park-city  27.0          152.0       71.0         250.0\n",
      "169       big-sky-resort  55.0           69.0      126.0         250.0\n",
      "1517            snowmass  14.2          111.0      111.0         236.2\n",
      "1702                vail  57.0           84.0       93.0         234.0\n",
      "1568           steamboat  25.0           95.0       45.0         165.0\n",
      "211         breckenridge  28.0           60.0       65.0         153.0\n",
      "141         beaver-creek  28.5           64.5       57.0         150.0\n",
      "1799  winter-park-resort  11.0           53.0       79.0         143.0\n",
      "102      aspen-highlands  24.3           40.5       70.2         135.0\n",
      "749             keystone  25.0           65.0       45.0         135.0\n"
     ]
    }
   ],
   "source": [
    "#  Let's examine the difficulty level of the ski centers.  There are three columns\n",
    "#  which give the number of easy, intermediate and difficult trails. \n",
    "#  The code adds a fourth column for the total number of trails. \n",
    "#  We generate a pie graph for the overall percentages from all the ski centers.\n",
    "\n",
    "#  Finally we sort by the ski centers with the most trails.  The biggest ones.\n",
    "#  And give the breakdown of difficulty of the top 10 biggest resorts. \n",
    "\n",
    "# this import is needed to generate a pie-chart from a list\n",
    "import matplotlib.pyplot as plt\n",
    "df_USA2 = df_USA.copy()\n",
    "\n",
    "#  create a total column and make a copy of the dataframe\n",
    "sum_col = df_USA['Easy']+df_USA['Intermediate ']+df_USA['Difficult']\n",
    "df_USA2['Total_Slopes'] = sum_col\n",
    "\n",
    "#  create a variable with the column names\n",
    "attr = ['Resort Name','Easy', 'Intermediate ', 'Difficult','Total_Slopes']\n",
    "\n",
    "#  create the pie chart of overall difficulty aggregated across the country.\n",
    "print(\"Here are the proportions of terrain difficulty across America:\")\n",
    "terrain = list(df_USA.loc[:,(attr[1:4])].sum())/df_USA.loc[:,(attr[-1])].sum()\n",
    "terrain_plot = plt.pie(terrain, labels=attr[1:4],colors = [\"green\",\"blue\",\"black\"])\n",
    "plt.show()\n",
    "\n",
    "#  create a table of the breakdown of difficulty of the biggest ski centers\n",
    "print(\"Here are the proportions of terrain difficulty at the biggest ski centers:\",\"\\n\")\n",
    "df_slopes = df_USA2[attr].sort_values('Total_Slopes',ascending=False)\n",
    "df_slopes = df_slopes\n",
    "print(df_slopes.head(10))\n"
   ]
  },
  {
   "cell_type": "code",
   "execution_count": 88,
   "id": "a770b4b8",
   "metadata": {},
   "outputs": [
    {
     "name": "stdout",
     "output_type": "stream",
     "text": [
      "The resorts with the best lifts are the following: \n",
      "\n",
      "                      Resort Name  Lifts and cable cars \n",
      "1816             yellowstone-club                    4.3\n",
      "1147  northstar-california-resort                    4.1\n",
      "219                      brighton                    4.1\n",
      "1759           wachusett-mountain                    4.1\n",
      "1649                   terry-peak                    4.1\n",
      "1661                   timberline                    4.1\n",
      "1581                        stowe                    4.0\n",
      "141                  beaver-creek                    4.0\n",
      "954              mammoth-mountain                    4.0\n",
      "1555                 squaw-valley                    4.0 \n",
      "\n",
      "The minimum value is: 1.0\n",
      "The maximum value is: 4.3\n",
      "Percentage Filled: 100.0  Percent\n",
      "\n",
      "The quality of the lifts in the US:\n"
     ]
    },
    {
     "data": {
      "image/png": "[encoded data removed]",
      "text/plain": [
       "<Figure size 432x288 with 1 Axes>"
      ]
     },
     "metadata": {
      "needs_background": "light"
     },
     "output_type": "display_data"
    }
   ],
   "source": [
    "#  Here we examine the quality of lifts across the ski areas.\n",
    "#  From the histogram we created it is easy to see that most ski centers\n",
    "#  have adequate lift capicity.  But there are a few with outstanding service.\n",
    "#  A just a couple which are worth avoiding.\n",
    "\n",
    "#  Here is a variable with the two columns of interest\n",
    "attr = ['Resort Name','Lifts and cable cars ']\n",
    "\n",
    "#  The following code creates the histogram of lift quality\n",
    "alt = df_USA[attr[1]].hist(bins=10)\n",
    "alt.set_xlabel(\"Rating of Lift Quality\", labelpad=20, weight='bold', size=12)\n",
    "alt.set_ylabel(\"Number of Ski Areas\", labelpad=20, weight='bold', size=12)\n",
    "alt.set_title(\"Histogram of Lift Quality\")\n",
    "\n",
    "#  Sort the ski centers by lift quality\n",
    "df_lifts = df_USA[attr].sort_values(attr[1], ascending=False).copy()\n",
    "\n",
    "#  Display a table of ski centers with the best lifts\n",
    "print(\"The resorts with the best lifts are the following:\",'\\n')\n",
    "print(df_lifts.head(10),'\\n')\n",
    "\n",
    "#  Here are some descriptive statistics about the column of data\n",
    "print('The minimum value is:', df_USA[attr[1]].min())\n",
    "print('The maximum value is:', df_USA[attr[1]].max())\n",
    "print('Percentage Filled:',100*df_USA[attr[1]].count()/len(df_USA),\" Percent\")\n",
    "print(\"\\nThe quality of the lifts in the US:\")\n",
    "\n"
   ]
  },
  {
   "cell_type": "code",
   "execution_count": 104,
   "id": "a5f7e11b",
   "metadata": {},
   "outputs": [
    {
     "name": "stdout",
     "output_type": "stream",
     "text": [
      "           Resort Name  Slope offering, variety of runs \n",
      "78      arapahoe-basin                               5.0\n",
      "1517          snowmass                               5.0\n",
      "1555      squaw-valley                               5.0\n",
      "1568         steamboat                               5.0\n",
      "1581             stowe                               5.0\n",
      "169     big-sky-resort                               5.0\n",
      "1205         park-city                               5.0\n",
      "211       breckenridge                               5.0\n",
      "102    aspen-highlands                               5.0\n",
      "954   mammoth-mountain                               5.0 \n",
      "\n",
      "The minimum value is: 1.0\n",
      "The maximum value is: 5.0\n",
      "Percentage Filled: 100.0  Percent\n"
     ]
    },
    {
     "data": {
      "image/png": "[encoded data removed]",
      "text/plain": [
       "<Figure size 432x288 with 1 Axes>"
      ]
     },
     "metadata": {
      "needs_background": "light"
     },
     "output_type": "display_data"
    }
   ],
   "source": [
    "# We examine Variety of Terrain\n",
    "# From the histogram it is clear that there are quite a number of ski centers with excellant\n",
    "# Terrain Variety.  We print a histogram and then print out a table with the best ski centers\n",
    "# for Terrain Variety.  \n",
    "\n",
    "attr = ['Resort Name','Slope offering, variety of runs ']\n",
    "print(df_USA[attr].sort_values('Slope offering, variety of runs ',ascending=False).head(10),'\\n')\n",
    "\n",
    "#  The following code creates the histogram of terrain variety\n",
    "alt = df_USA[attr[1]].hist(bins=10)\n",
    "alt.set_xlabel(\"Variety of Terrain\", labelpad=20, weight='bold', size=12)\n",
    "alt.set_ylabel(\"Number of Ski Areas\", labelpad=20, weight='bold', size=12)\n",
    "alt.set_title(\"Histogram of Terrain Variety\")\n",
    "\n",
    "\n",
    "print('The minimum value is:',df_USA[attr[1]].min())\n",
    "print('The maximum value is:', df_USA[attr[1]].max())\n",
    "print('Percentage Filled:',100*df_USA[attr[1]].count()/len(df_USA),\" Percent\")\n"
   ]
  },
  {
   "cell_type": "code",
   "execution_count": 10,
   "id": "4089bf6a",
   "metadata": {},
   "outputs": [
    {
     "name": "stdout",
     "output_type": "stream",
     "text": [
      "          Resort Name  Ski resort size \n",
      "1517         snowmass               5.0\n",
      "1702             vail               5.0\n",
      "169    big-sky-resort               4.9\n",
      "1205        park-city               4.8\n",
      "1568        steamboat               4.8\n",
      "1277  powder-mountain               4.5\n",
      "693      jackson-hole               4.4\n",
      "753        killington               4.4\n",
      "331   copper-mountain               4.4\n",
      "342     crested-butte               4.3\n",
      "\n",
      "Min: 1.1\n",
      "Max: 5.0\n",
      "Percentage Filled: 100.0  Percent\n"
     ]
    },
    {
     "data": {
      "image/png": "[encoded data removed]",
      "text/plain": [
       "<Figure size 432x288 with 1 Axes>"
      ]
     },
     "metadata": {
      "needs_background": "light"
     },
     "output_type": "display_data"
    }
   ],
   "source": [
    "#  We examine the ski resort size\n",
    "#  From the histogram of size, it is clear that there are just a few mega-resorts\n",
    "#  While almost everything else is quite modest in size.\n",
    "\n",
    "#  Here is a variable with the two columns of interest\n",
    "attr = ['Resort Name','Ski resort size ']\n",
    "\n",
    "#  Here is a table of ski resorts sorted by size.  The 10 biggest resorts are listed.\n",
    "print(df_USA[attr].sort_values('Ski resort size ',ascending=False).head(10))\n",
    "\n",
    "\n",
    "#  The following code creates the histogram of size of ski resorts\n",
    "alt = df_USA[attr[1]].hist(bins=10)\n",
    "alt.set_xlabel(\"Scaled Size of Ski Center\", labelpad=20, weight='bold', size=12)\n",
    "alt.set_ylabel(\"Number of Ski Areas\", labelpad=20, weight='bold', size=12)\n",
    "alt.set_title(\"Histogram of Ski Center Size\")\n",
    "\n",
    "#  Here are some descriptive statistics from the column.\n",
    "print('\\nMin:',df_USA[attr[1]].min())\n",
    "print('Max:', df_USA[attr[1]].max())\n",
    "print('Percentage Filled:',100*df_USA[attr[1]].count()/len(df_USA),\" Percent\")\n",
    "\n"
   ]
  },
  {
   "cell_type": "code",
   "execution_count": null,
   "id": "44e6d4fc",
   "metadata": {},
   "outputs": [],
   "source": []
  }
 ],
 "metadata": {
  "kernelspec": {
   "display_name": "Python 3 (ipykernel)",
   "language": "python",
   "name": "python3"
  },
  "language_info": {
   "codemirror_mode": {
    "name": "ipython",
    "version": 3
   },
   "file_extension": ".py",
   "mimetype": "text/x-python",
   "name": "python",
   "nbconvert_exporter": "python",
   "pygments_lexer": "ipython3",
   "version": "3.9.12"
  }
 },
 "nbformat": 4,
 "nbformat_minor": 5
}
